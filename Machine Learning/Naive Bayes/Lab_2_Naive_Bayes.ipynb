{
  "cells": [
    {
      "cell_type": "code",
      "execution_count": null,
      "metadata": {
        "id": "026_p5WtNPcp"
      },
      "outputs": [],
      "source": [
        "import numpy as np\n",
        "import pandas as pd\n",
        "import sklearn"
      ]
    },
    {
      "cell_type": "code",
      "execution_count": null,
      "metadata": {
        "id": "ExK9mJL4PlPH"
      },
      "outputs": [],
      "source": [
        "dataset=pd.read_csv('/content/Social_Network_Ads (2).csv')"
      ]
    },
    {
      "cell_type": "code",
      "execution_count": null,
      "metadata": {
        "colab": {
          "base_uri": "https://localhost:8080/",
          "height": 241
        },
        "id": "bMxbidpCQ-um",
        "outputId": "c5ea8034-0a21-4dc0-a016-84af412cd0df"
      },
      "outputs": [
        {
          "data": {
            "text/html": [
              "<div>\n",
              "<style scoped>\n",
              "    .dataframe tbody tr th:only-of-type {\n",
              "        vertical-align: middle;\n",
              "    }\n",
              "\n",
              "    .dataframe tbody tr th {\n",
              "        vertical-align: top;\n",
              "    }\n",
              "\n",
              "    .dataframe thead th {\n",
              "        text-align: right;\n",
              "    }\n",
              "</style>\n",
              "<table border=\"1\" class=\"dataframe\">\n",
              "  <thead>\n",
              "    <tr style=\"text-align: right;\">\n",
              "      <th></th>\n",
              "      <th>0</th>\n",
              "    </tr>\n",
              "  </thead>\n",
              "  <tbody>\n",
              "    <tr>\n",
              "      <th>User ID</th>\n",
              "      <td>0</td>\n",
              "    </tr>\n",
              "    <tr>\n",
              "      <th>Gender</th>\n",
              "      <td>0</td>\n",
              "    </tr>\n",
              "    <tr>\n",
              "      <th>Age</th>\n",
              "      <td>0</td>\n",
              "    </tr>\n",
              "    <tr>\n",
              "      <th>EstimatedSalary</th>\n",
              "      <td>0</td>\n",
              "    </tr>\n",
              "    <tr>\n",
              "      <th>Purchased</th>\n",
              "      <td>0</td>\n",
              "    </tr>\n",
              "  </tbody>\n",
              "</table>\n",
              "</div><br><label><b>dtype:</b> int64</label>"
            ],
            "text/plain": [
              "User ID            0\n",
              "Gender             0\n",
              "Age                0\n",
              "EstimatedSalary    0\n",
              "Purchased          0\n",
              "dtype: int64"
            ]
          },
          "execution_count": 4,
          "metadata": {},
          "output_type": "execute_result"
        }
      ],
      "source": [
        "dataset.isnull().sum()"
      ]
    },
    {
      "cell_type": "code",
      "execution_count": null,
      "metadata": {
        "colab": {
          "base_uri": "https://localhost:8080/",
          "height": 206
        },
        "id": "mOHZ8jppQXxz",
        "outputId": "c89505b5-272d-46ba-d73e-cb2113e9ebe1"
      },
      "outputs": [
        {
          "data": {
            "application/vnd.google.colaboratory.intrinsic+json": {
              "summary": "{\n  \"name\": \"dataset\",\n  \"rows\": 400,\n  \"fields\": [\n    {\n      \"column\": \"User ID\",\n      \"properties\": {\n        \"dtype\": \"number\",\n        \"std\": 71658,\n        \"min\": 15566689,\n        \"max\": 15815236,\n        \"num_unique_values\": 400,\n        \"samples\": [\n          15697424,\n          15609669,\n          15776733\n        ],\n        \"semantic_type\": \"\",\n        \"description\": \"\"\n      }\n    },\n    {\n      \"column\": \"Gender\",\n      \"properties\": {\n        \"dtype\": \"category\",\n        \"num_unique_values\": 2,\n        \"samples\": [\n          \"Female\",\n          \"Male\"\n        ],\n        \"semantic_type\": \"\",\n        \"description\": \"\"\n      }\n    },\n    {\n      \"column\": \"Age\",\n      \"properties\": {\n        \"dtype\": \"number\",\n        \"std\": 10,\n        \"min\": 18,\n        \"max\": 60,\n        \"num_unique_values\": 43,\n        \"samples\": [\n          50,\n          39\n        ],\n        \"semantic_type\": \"\",\n        \"description\": \"\"\n      }\n    },\n    {\n      \"column\": \"EstimatedSalary\",\n      \"properties\": {\n        \"dtype\": \"number\",\n        \"std\": 34096,\n        \"min\": 15000,\n        \"max\": 150000,\n        \"num_unique_values\": 117,\n        \"samples\": [\n          117000,\n          76000\n        ],\n        \"semantic_type\": \"\",\n        \"description\": \"\"\n      }\n    },\n    {\n      \"column\": \"Purchased\",\n      \"properties\": {\n        \"dtype\": \"number\",\n        \"std\": 0,\n        \"min\": 0,\n        \"max\": 1,\n        \"num_unique_values\": 2,\n        \"samples\": [\n          1,\n          0\n        ],\n        \"semantic_type\": \"\",\n        \"description\": \"\"\n      }\n    }\n  ]\n}",
              "type": "dataframe",
              "variable_name": "dataset"
            },
            "text/html": [
              "\n",
              "  <div id=\"df-e1e9fc73-2d3d-4b01-9435-0329c9182ded\" class=\"colab-df-container\">\n",
              "    <div>\n",
              "<style scoped>\n",
              "    .dataframe tbody tr th:only-of-type {\n",
              "        vertical-align: middle;\n",
              "    }\n",
              "\n",
              "    .dataframe tbody tr th {\n",
              "        vertical-align: top;\n",
              "    }\n",
              "\n",
              "    .dataframe thead th {\n",
              "        text-align: right;\n",
              "    }\n",
              "</style>\n",
              "<table border=\"1\" class=\"dataframe\">\n",
              "  <thead>\n",
              "    <tr style=\"text-align: right;\">\n",
              "      <th></th>\n",
              "      <th>User ID</th>\n",
              "      <th>Gender</th>\n",
              "      <th>Age</th>\n",
              "      <th>EstimatedSalary</th>\n",
              "      <th>Purchased</th>\n",
              "    </tr>\n",
              "  </thead>\n",
              "  <tbody>\n",
              "    <tr>\n",
              "      <th>0</th>\n",
              "      <td>15624510</td>\n",
              "      <td>Male</td>\n",
              "      <td>19</td>\n",
              "      <td>19000</td>\n",
              "      <td>0</td>\n",
              "    </tr>\n",
              "    <tr>\n",
              "      <th>1</th>\n",
              "      <td>15810944</td>\n",
              "      <td>Male</td>\n",
              "      <td>35</td>\n",
              "      <td>20000</td>\n",
              "      <td>0</td>\n",
              "    </tr>\n",
              "    <tr>\n",
              "      <th>2</th>\n",
              "      <td>15668575</td>\n",
              "      <td>Female</td>\n",
              "      <td>26</td>\n",
              "      <td>43000</td>\n",
              "      <td>0</td>\n",
              "    </tr>\n",
              "    <tr>\n",
              "      <th>3</th>\n",
              "      <td>15603246</td>\n",
              "      <td>Female</td>\n",
              "      <td>27</td>\n",
              "      <td>57000</td>\n",
              "      <td>0</td>\n",
              "    </tr>\n",
              "    <tr>\n",
              "      <th>4</th>\n",
              "      <td>15804002</td>\n",
              "      <td>Male</td>\n",
              "      <td>19</td>\n",
              "      <td>76000</td>\n",
              "      <td>0</td>\n",
              "    </tr>\n",
              "  </tbody>\n",
              "</table>\n",
              "</div>\n",
              "    <div class=\"colab-df-buttons\">\n",
              "\n",
              "  <div class=\"colab-df-container\">\n",
              "    <button class=\"colab-df-convert\" onclick=\"convertToInteractive('df-e1e9fc73-2d3d-4b01-9435-0329c9182ded')\"\n",
              "            title=\"Convert this dataframe to an interactive table.\"\n",
              "            style=\"display:none;\">\n",
              "\n",
              "  <svg xmlns=\"http://www.w3.org/2000/svg\" height=\"24px\" viewBox=\"0 -960 960 960\">\n",
              "    <path d=\"M120-120v-720h720v720H120Zm60-500h600v-160H180v160Zm220 220h160v-160H400v160Zm0 220h160v-160H400v160ZM180-400h160v-160H180v160Zm440 0h160v-160H620v160ZM180-180h160v-160H180v160Zm440 0h160v-160H620v160Z\"/>\n",
              "  </svg>\n",
              "    </button>\n",
              "\n",
              "  <style>\n",
              "    .colab-df-container {\n",
              "      display:flex;\n",
              "      gap: 12px;\n",
              "    }\n",
              "\n",
              "    .colab-df-convert {\n",
              "      background-color: #E8F0FE;\n",
              "      border: none;\n",
              "      border-radius: 50%;\n",
              "      cursor: pointer;\n",
              "      display: none;\n",
              "      fill: #1967D2;\n",
              "      height: 32px;\n",
              "      padding: 0 0 0 0;\n",
              "      width: 32px;\n",
              "    }\n",
              "\n",
              "    .colab-df-convert:hover {\n",
              "      background-color: #E2EBFA;\n",
              "      box-shadow: 0px 1px 2px rgba(60, 64, 67, 0.3), 0px 1px 3px 1px rgba(60, 64, 67, 0.15);\n",
              "      fill: #174EA6;\n",
              "    }\n",
              "\n",
              "    .colab-df-buttons div {\n",
              "      margin-bottom: 4px;\n",
              "    }\n",
              "\n",
              "    [theme=dark] .colab-df-convert {\n",
              "      background-color: #3B4455;\n",
              "      fill: #D2E3FC;\n",
              "    }\n",
              "\n",
              "    [theme=dark] .colab-df-convert:hover {\n",
              "      background-color: #434B5C;\n",
              "      box-shadow: 0px 1px 3px 1px rgba(0, 0, 0, 0.15);\n",
              "      filter: drop-shadow(0px 1px 2px rgba(0, 0, 0, 0.3));\n",
              "      fill: #FFFFFF;\n",
              "    }\n",
              "  </style>\n",
              "\n",
              "    <script>\n",
              "      const buttonEl =\n",
              "        document.querySelector('#df-e1e9fc73-2d3d-4b01-9435-0329c9182ded button.colab-df-convert');\n",
              "      buttonEl.style.display =\n",
              "        google.colab.kernel.accessAllowed ? 'block' : 'none';\n",
              "\n",
              "      async function convertToInteractive(key) {\n",
              "        const element = document.querySelector('#df-e1e9fc73-2d3d-4b01-9435-0329c9182ded');\n",
              "        const dataTable =\n",
              "          await google.colab.kernel.invokeFunction('convertToInteractive',\n",
              "                                                    [key], {});\n",
              "        if (!dataTable) return;\n",
              "\n",
              "        const docLinkHtml = 'Like what you see? Visit the ' +\n",
              "          '<a target=\"_blank\" href=https://colab.research.google.com/notebooks/data_table.ipynb>data table notebook</a>'\n",
              "          + ' to learn more about interactive tables.';\n",
              "        element.innerHTML = '';\n",
              "        dataTable['output_type'] = 'display_data';\n",
              "        await google.colab.output.renderOutput(dataTable, element);\n",
              "        const docLink = document.createElement('div');\n",
              "        docLink.innerHTML = docLinkHtml;\n",
              "        element.appendChild(docLink);\n",
              "      }\n",
              "    </script>\n",
              "  </div>\n",
              "\n",
              "\n",
              "<div id=\"df-73ec6d15-7a21-46d0-bda9-fd2ca4118103\">\n",
              "  <button class=\"colab-df-quickchart\" onclick=\"quickchart('df-73ec6d15-7a21-46d0-bda9-fd2ca4118103')\"\n",
              "            title=\"Suggest charts\"\n",
              "            style=\"display:none;\">\n",
              "\n",
              "<svg xmlns=\"http://www.w3.org/2000/svg\" height=\"24px\"viewBox=\"0 0 24 24\"\n",
              "     width=\"24px\">\n",
              "    <g>\n",
              "        <path d=\"M19 3H5c-1.1 0-2 .9-2 2v14c0 1.1.9 2 2 2h14c1.1 0 2-.9 2-2V5c0-1.1-.9-2-2-2zM9 17H7v-7h2v7zm4 0h-2V7h2v10zm4 0h-2v-4h2v4z\"/>\n",
              "    </g>\n",
              "</svg>\n",
              "  </button>\n",
              "\n",
              "<style>\n",
              "  .colab-df-quickchart {\n",
              "      --bg-color: #E8F0FE;\n",
              "      --fill-color: #1967D2;\n",
              "      --hover-bg-color: #E2EBFA;\n",
              "      --hover-fill-color: #174EA6;\n",
              "      --disabled-fill-color: #AAA;\n",
              "      --disabled-bg-color: #DDD;\n",
              "  }\n",
              "\n",
              "  [theme=dark] .colab-df-quickchart {\n",
              "      --bg-color: #3B4455;\n",
              "      --fill-color: #D2E3FC;\n",
              "      --hover-bg-color: #434B5C;\n",
              "      --hover-fill-color: #FFFFFF;\n",
              "      --disabled-bg-color: #3B4455;\n",
              "      --disabled-fill-color: #666;\n",
              "  }\n",
              "\n",
              "  .colab-df-quickchart {\n",
              "    background-color: var(--bg-color);\n",
              "    border: none;\n",
              "    border-radius: 50%;\n",
              "    cursor: pointer;\n",
              "    display: none;\n",
              "    fill: var(--fill-color);\n",
              "    height: 32px;\n",
              "    padding: 0;\n",
              "    width: 32px;\n",
              "  }\n",
              "\n",
              "  .colab-df-quickchart:hover {\n",
              "    background-color: var(--hover-bg-color);\n",
              "    box-shadow: 0 1px 2px rgba(60, 64, 67, 0.3), 0 1px 3px 1px rgba(60, 64, 67, 0.15);\n",
              "    fill: var(--button-hover-fill-color);\n",
              "  }\n",
              "\n",
              "  .colab-df-quickchart-complete:disabled,\n",
              "  .colab-df-quickchart-complete:disabled:hover {\n",
              "    background-color: var(--disabled-bg-color);\n",
              "    fill: var(--disabled-fill-color);\n",
              "    box-shadow: none;\n",
              "  }\n",
              "\n",
              "  .colab-df-spinner {\n",
              "    border: 2px solid var(--fill-color);\n",
              "    border-color: transparent;\n",
              "    border-bottom-color: var(--fill-color);\n",
              "    animation:\n",
              "      spin 1s steps(1) infinite;\n",
              "  }\n",
              "\n",
              "  @keyframes spin {\n",
              "    0% {\n",
              "      border-color: transparent;\n",
              "      border-bottom-color: var(--fill-color);\n",
              "      border-left-color: var(--fill-color);\n",
              "    }\n",
              "    20% {\n",
              "      border-color: transparent;\n",
              "      border-left-color: var(--fill-color);\n",
              "      border-top-color: var(--fill-color);\n",
              "    }\n",
              "    30% {\n",
              "      border-color: transparent;\n",
              "      border-left-color: var(--fill-color);\n",
              "      border-top-color: var(--fill-color);\n",
              "      border-right-color: var(--fill-color);\n",
              "    }\n",
              "    40% {\n",
              "      border-color: transparent;\n",
              "      border-right-color: var(--fill-color);\n",
              "      border-top-color: var(--fill-color);\n",
              "    }\n",
              "    60% {\n",
              "      border-color: transparent;\n",
              "      border-right-color: var(--fill-color);\n",
              "    }\n",
              "    80% {\n",
              "      border-color: transparent;\n",
              "      border-right-color: var(--fill-color);\n",
              "      border-bottom-color: var(--fill-color);\n",
              "    }\n",
              "    90% {\n",
              "      border-color: transparent;\n",
              "      border-bottom-color: var(--fill-color);\n",
              "    }\n",
              "  }\n",
              "</style>\n",
              "\n",
              "  <script>\n",
              "    async function quickchart(key) {\n",
              "      const quickchartButtonEl =\n",
              "        document.querySelector('#' + key + ' button');\n",
              "      quickchartButtonEl.disabled = true;  // To prevent multiple clicks.\n",
              "      quickchartButtonEl.classList.add('colab-df-spinner');\n",
              "      try {\n",
              "        const charts = await google.colab.kernel.invokeFunction(\n",
              "            'suggestCharts', [key], {});\n",
              "      } catch (error) {\n",
              "        console.error('Error during call to suggestCharts:', error);\n",
              "      }\n",
              "      quickchartButtonEl.classList.remove('colab-df-spinner');\n",
              "      quickchartButtonEl.classList.add('colab-df-quickchart-complete');\n",
              "    }\n",
              "    (() => {\n",
              "      let quickchartButtonEl =\n",
              "        document.querySelector('#df-73ec6d15-7a21-46d0-bda9-fd2ca4118103 button');\n",
              "      quickchartButtonEl.style.display =\n",
              "        google.colab.kernel.accessAllowed ? 'block' : 'none';\n",
              "    })();\n",
              "  </script>\n",
              "</div>\n",
              "\n",
              "    </div>\n",
              "  </div>\n"
            ],
            "text/plain": [
              "    User ID  Gender  Age  EstimatedSalary  Purchased\n",
              "0  15624510    Male   19            19000          0\n",
              "1  15810944    Male   35            20000          0\n",
              "2  15668575  Female   26            43000          0\n",
              "3  15603246  Female   27            57000          0\n",
              "4  15804002    Male   19            76000          0"
            ]
          },
          "execution_count": 7,
          "metadata": {},
          "output_type": "execute_result"
        }
      ],
      "source": [
        "dataset.head()"
      ]
    },
    {
      "cell_type": "code",
      "execution_count": null,
      "metadata": {
        "id": "SRO-K3a7XNsY"
      },
      "outputs": [],
      "source": [
        "from sklearn import preprocessing\n",
        "\n",
        "col_cat = ['Gender']\n",
        "\n",
        "label_encoder = preprocessing.LabelEncoder()\n",
        "\n",
        "for col in col_cat:\n",
        " dataset[col]=label_encoder.fit_transform(dataset[col])"
      ]
    },
    {
      "cell_type": "code",
      "execution_count": null,
      "metadata": {
        "colab": {
          "base_uri": "https://localhost:8080/",
          "height": 206
        },
        "id": "mH-Bm1XxQSJS",
        "outputId": "c463a39f-b3de-472e-b2b0-47d5f5ac42a8"
      },
      "outputs": [
        {
          "data": {
            "application/vnd.google.colaboratory.intrinsic+json": {
              "summary": "{\n  \"name\": \"dataset\",\n  \"rows\": 400,\n  \"fields\": [\n    {\n      \"column\": \"User ID\",\n      \"properties\": {\n        \"dtype\": \"number\",\n        \"std\": 71658,\n        \"min\": 15566689,\n        \"max\": 15815236,\n        \"num_unique_values\": 400,\n        \"samples\": [\n          15697424,\n          15609669,\n          15776733\n        ],\n        \"semantic_type\": \"\",\n        \"description\": \"\"\n      }\n    },\n    {\n      \"column\": \"Gender\",\n      \"properties\": {\n        \"dtype\": \"number\",\n        \"std\": 0,\n        \"min\": 0,\n        \"max\": 1,\n        \"num_unique_values\": 2,\n        \"samples\": [\n          0,\n          1\n        ],\n        \"semantic_type\": \"\",\n        \"description\": \"\"\n      }\n    },\n    {\n      \"column\": \"Age\",\n      \"properties\": {\n        \"dtype\": \"number\",\n        \"std\": 10,\n        \"min\": 18,\n        \"max\": 60,\n        \"num_unique_values\": 43,\n        \"samples\": [\n          50,\n          39\n        ],\n        \"semantic_type\": \"\",\n        \"description\": \"\"\n      }\n    },\n    {\n      \"column\": \"EstimatedSalary\",\n      \"properties\": {\n        \"dtype\": \"number\",\n        \"std\": 34096,\n        \"min\": 15000,\n        \"max\": 150000,\n        \"num_unique_values\": 117,\n        \"samples\": [\n          117000,\n          76000\n        ],\n        \"semantic_type\": \"\",\n        \"description\": \"\"\n      }\n    },\n    {\n      \"column\": \"Purchased\",\n      \"properties\": {\n        \"dtype\": \"number\",\n        \"std\": 0,\n        \"min\": 0,\n        \"max\": 1,\n        \"num_unique_values\": 2,\n        \"samples\": [\n          1,\n          0\n        ],\n        \"semantic_type\": \"\",\n        \"description\": \"\"\n      }\n    }\n  ]\n}",
              "type": "dataframe",
              "variable_name": "dataset"
            },
            "text/html": [
              "\n",
              "  <div id=\"df-fdc353aa-8aa6-401b-87cd-1f6c17aff2d2\" class=\"colab-df-container\">\n",
              "    <div>\n",
              "<style scoped>\n",
              "    .dataframe tbody tr th:only-of-type {\n",
              "        vertical-align: middle;\n",
              "    }\n",
              "\n",
              "    .dataframe tbody tr th {\n",
              "        vertical-align: top;\n",
              "    }\n",
              "\n",
              "    .dataframe thead th {\n",
              "        text-align: right;\n",
              "    }\n",
              "</style>\n",
              "<table border=\"1\" class=\"dataframe\">\n",
              "  <thead>\n",
              "    <tr style=\"text-align: right;\">\n",
              "      <th></th>\n",
              "      <th>User ID</th>\n",
              "      <th>Gender</th>\n",
              "      <th>Age</th>\n",
              "      <th>EstimatedSalary</th>\n",
              "      <th>Purchased</th>\n",
              "    </tr>\n",
              "  </thead>\n",
              "  <tbody>\n",
              "    <tr>\n",
              "      <th>0</th>\n",
              "      <td>15624510</td>\n",
              "      <td>1</td>\n",
              "      <td>19</td>\n",
              "      <td>19000</td>\n",
              "      <td>0</td>\n",
              "    </tr>\n",
              "    <tr>\n",
              "      <th>1</th>\n",
              "      <td>15810944</td>\n",
              "      <td>1</td>\n",
              "      <td>35</td>\n",
              "      <td>20000</td>\n",
              "      <td>0</td>\n",
              "    </tr>\n",
              "    <tr>\n",
              "      <th>2</th>\n",
              "      <td>15668575</td>\n",
              "      <td>0</td>\n",
              "      <td>26</td>\n",
              "      <td>43000</td>\n",
              "      <td>0</td>\n",
              "    </tr>\n",
              "    <tr>\n",
              "      <th>3</th>\n",
              "      <td>15603246</td>\n",
              "      <td>0</td>\n",
              "      <td>27</td>\n",
              "      <td>57000</td>\n",
              "      <td>0</td>\n",
              "    </tr>\n",
              "    <tr>\n",
              "      <th>4</th>\n",
              "      <td>15804002</td>\n",
              "      <td>1</td>\n",
              "      <td>19</td>\n",
              "      <td>76000</td>\n",
              "      <td>0</td>\n",
              "    </tr>\n",
              "  </tbody>\n",
              "</table>\n",
              "</div>\n",
              "    <div class=\"colab-df-buttons\">\n",
              "\n",
              "  <div class=\"colab-df-container\">\n",
              "    <button class=\"colab-df-convert\" onclick=\"convertToInteractive('df-fdc353aa-8aa6-401b-87cd-1f6c17aff2d2')\"\n",
              "            title=\"Convert this dataframe to an interactive table.\"\n",
              "            style=\"display:none;\">\n",
              "\n",
              "  <svg xmlns=\"http://www.w3.org/2000/svg\" height=\"24px\" viewBox=\"0 -960 960 960\">\n",
              "    <path d=\"M120-120v-720h720v720H120Zm60-500h600v-160H180v160Zm220 220h160v-160H400v160Zm0 220h160v-160H400v160ZM180-400h160v-160H180v160Zm440 0h160v-160H620v160ZM180-180h160v-160H180v160Zm440 0h160v-160H620v160Z\"/>\n",
              "  </svg>\n",
              "    </button>\n",
              "\n",
              "  <style>\n",
              "    .colab-df-container {\n",
              "      display:flex;\n",
              "      gap: 12px;\n",
              "    }\n",
              "\n",
              "    .colab-df-convert {\n",
              "      background-color: #E8F0FE;\n",
              "      border: none;\n",
              "      border-radius: 50%;\n",
              "      cursor: pointer;\n",
              "      display: none;\n",
              "      fill: #1967D2;\n",
              "      height: 32px;\n",
              "      padding: 0 0 0 0;\n",
              "      width: 32px;\n",
              "    }\n",
              "\n",
              "    .colab-df-convert:hover {\n",
              "      background-color: #E2EBFA;\n",
              "      box-shadow: 0px 1px 2px rgba(60, 64, 67, 0.3), 0px 1px 3px 1px rgba(60, 64, 67, 0.15);\n",
              "      fill: #174EA6;\n",
              "    }\n",
              "\n",
              "    .colab-df-buttons div {\n",
              "      margin-bottom: 4px;\n",
              "    }\n",
              "\n",
              "    [theme=dark] .colab-df-convert {\n",
              "      background-color: #3B4455;\n",
              "      fill: #D2E3FC;\n",
              "    }\n",
              "\n",
              "    [theme=dark] .colab-df-convert:hover {\n",
              "      background-color: #434B5C;\n",
              "      box-shadow: 0px 1px 3px 1px rgba(0, 0, 0, 0.15);\n",
              "      filter: drop-shadow(0px 1px 2px rgba(0, 0, 0, 0.3));\n",
              "      fill: #FFFFFF;\n",
              "    }\n",
              "  </style>\n",
              "\n",
              "    <script>\n",
              "      const buttonEl =\n",
              "        document.querySelector('#df-fdc353aa-8aa6-401b-87cd-1f6c17aff2d2 button.colab-df-convert');\n",
              "      buttonEl.style.display =\n",
              "        google.colab.kernel.accessAllowed ? 'block' : 'none';\n",
              "\n",
              "      async function convertToInteractive(key) {\n",
              "        const element = document.querySelector('#df-fdc353aa-8aa6-401b-87cd-1f6c17aff2d2');\n",
              "        const dataTable =\n",
              "          await google.colab.kernel.invokeFunction('convertToInteractive',\n",
              "                                                    [key], {});\n",
              "        if (!dataTable) return;\n",
              "\n",
              "        const docLinkHtml = 'Like what you see? Visit the ' +\n",
              "          '<a target=\"_blank\" href=https://colab.research.google.com/notebooks/data_table.ipynb>data table notebook</a>'\n",
              "          + ' to learn more about interactive tables.';\n",
              "        element.innerHTML = '';\n",
              "        dataTable['output_type'] = 'display_data';\n",
              "        await google.colab.output.renderOutput(dataTable, element);\n",
              "        const docLink = document.createElement('div');\n",
              "        docLink.innerHTML = docLinkHtml;\n",
              "        element.appendChild(docLink);\n",
              "      }\n",
              "    </script>\n",
              "  </div>\n",
              "\n",
              "\n",
              "<div id=\"df-a47bcfa2-9c81-4207-9f01-6eb8964db9bc\">\n",
              "  <button class=\"colab-df-quickchart\" onclick=\"quickchart('df-a47bcfa2-9c81-4207-9f01-6eb8964db9bc')\"\n",
              "            title=\"Suggest charts\"\n",
              "            style=\"display:none;\">\n",
              "\n",
              "<svg xmlns=\"http://www.w3.org/2000/svg\" height=\"24px\"viewBox=\"0 0 24 24\"\n",
              "     width=\"24px\">\n",
              "    <g>\n",
              "        <path d=\"M19 3H5c-1.1 0-2 .9-2 2v14c0 1.1.9 2 2 2h14c1.1 0 2-.9 2-2V5c0-1.1-.9-2-2-2zM9 17H7v-7h2v7zm4 0h-2V7h2v10zm4 0h-2v-4h2v4z\"/>\n",
              "    </g>\n",
              "</svg>\n",
              "  </button>\n",
              "\n",
              "<style>\n",
              "  .colab-df-quickchart {\n",
              "      --bg-color: #E8F0FE;\n",
              "      --fill-color: #1967D2;\n",
              "      --hover-bg-color: #E2EBFA;\n",
              "      --hover-fill-color: #174EA6;\n",
              "      --disabled-fill-color: #AAA;\n",
              "      --disabled-bg-color: #DDD;\n",
              "  }\n",
              "\n",
              "  [theme=dark] .colab-df-quickchart {\n",
              "      --bg-color: #3B4455;\n",
              "      --fill-color: #D2E3FC;\n",
              "      --hover-bg-color: #434B5C;\n",
              "      --hover-fill-color: #FFFFFF;\n",
              "      --disabled-bg-color: #3B4455;\n",
              "      --disabled-fill-color: #666;\n",
              "  }\n",
              "\n",
              "  .colab-df-quickchart {\n",
              "    background-color: var(--bg-color);\n",
              "    border: none;\n",
              "    border-radius: 50%;\n",
              "    cursor: pointer;\n",
              "    display: none;\n",
              "    fill: var(--fill-color);\n",
              "    height: 32px;\n",
              "    padding: 0;\n",
              "    width: 32px;\n",
              "  }\n",
              "\n",
              "  .colab-df-quickchart:hover {\n",
              "    background-color: var(--hover-bg-color);\n",
              "    box-shadow: 0 1px 2px rgba(60, 64, 67, 0.3), 0 1px 3px 1px rgba(60, 64, 67, 0.15);\n",
              "    fill: var(--button-hover-fill-color);\n",
              "  }\n",
              "\n",
              "  .colab-df-quickchart-complete:disabled,\n",
              "  .colab-df-quickchart-complete:disabled:hover {\n",
              "    background-color: var(--disabled-bg-color);\n",
              "    fill: var(--disabled-fill-color);\n",
              "    box-shadow: none;\n",
              "  }\n",
              "\n",
              "  .colab-df-spinner {\n",
              "    border: 2px solid var(--fill-color);\n",
              "    border-color: transparent;\n",
              "    border-bottom-color: var(--fill-color);\n",
              "    animation:\n",
              "      spin 1s steps(1) infinite;\n",
              "  }\n",
              "\n",
              "  @keyframes spin {\n",
              "    0% {\n",
              "      border-color: transparent;\n",
              "      border-bottom-color: var(--fill-color);\n",
              "      border-left-color: var(--fill-color);\n",
              "    }\n",
              "    20% {\n",
              "      border-color: transparent;\n",
              "      border-left-color: var(--fill-color);\n",
              "      border-top-color: var(--fill-color);\n",
              "    }\n",
              "    30% {\n",
              "      border-color: transparent;\n",
              "      border-left-color: var(--fill-color);\n",
              "      border-top-color: var(--fill-color);\n",
              "      border-right-color: var(--fill-color);\n",
              "    }\n",
              "    40% {\n",
              "      border-color: transparent;\n",
              "      border-right-color: var(--fill-color);\n",
              "      border-top-color: var(--fill-color);\n",
              "    }\n",
              "    60% {\n",
              "      border-color: transparent;\n",
              "      border-right-color: var(--fill-color);\n",
              "    }\n",
              "    80% {\n",
              "      border-color: transparent;\n",
              "      border-right-color: var(--fill-color);\n",
              "      border-bottom-color: var(--fill-color);\n",
              "    }\n",
              "    90% {\n",
              "      border-color: transparent;\n",
              "      border-bottom-color: var(--fill-color);\n",
              "    }\n",
              "  }\n",
              "</style>\n",
              "\n",
              "  <script>\n",
              "    async function quickchart(key) {\n",
              "      const quickchartButtonEl =\n",
              "        document.querySelector('#' + key + ' button');\n",
              "      quickchartButtonEl.disabled = true;  // To prevent multiple clicks.\n",
              "      quickchartButtonEl.classList.add('colab-df-spinner');\n",
              "      try {\n",
              "        const charts = await google.colab.kernel.invokeFunction(\n",
              "            'suggestCharts', [key], {});\n",
              "      } catch (error) {\n",
              "        console.error('Error during call to suggestCharts:', error);\n",
              "      }\n",
              "      quickchartButtonEl.classList.remove('colab-df-spinner');\n",
              "      quickchartButtonEl.classList.add('colab-df-quickchart-complete');\n",
              "    }\n",
              "    (() => {\n",
              "      let quickchartButtonEl =\n",
              "        document.querySelector('#df-a47bcfa2-9c81-4207-9f01-6eb8964db9bc button');\n",
              "      quickchartButtonEl.style.display =\n",
              "        google.colab.kernel.accessAllowed ? 'block' : 'none';\n",
              "    })();\n",
              "  </script>\n",
              "</div>\n",
              "\n",
              "    </div>\n",
              "  </div>\n"
            ],
            "text/plain": [
              "    User ID  Gender  Age  EstimatedSalary  Purchased\n",
              "0  15624510       1   19            19000          0\n",
              "1  15810944       1   35            20000          0\n",
              "2  15668575       0   26            43000          0\n",
              "3  15603246       0   27            57000          0\n",
              "4  15804002       1   19            76000          0"
            ]
          },
          "execution_count": 10,
          "metadata": {},
          "output_type": "execute_result"
        }
      ],
      "source": [
        "dataset.head()"
      ]
    },
    {
      "cell_type": "code",
      "execution_count": null,
      "metadata": {
        "id": "-u5PtP2ZQ3fi"
      },
      "outputs": [],
      "source": [
        "X=dataset.iloc[:,[1,2,3]].values\n",
        "y =dataset.iloc[:,-1].values"
      ]
    },
    {
      "cell_type": "code",
      "execution_count": null,
      "metadata": {
        "colab": {
          "base_uri": "https://localhost:8080/"
        },
        "id": "-wpukZwaXC0E",
        "outputId": "4245dee1-5c2d-4271-fb95-d7c4956b9c28"
      },
      "outputs": [
        {
          "data": {
            "text/plain": [
              "(400, 3)"
            ]
          },
          "execution_count": 17,
          "metadata": {},
          "output_type": "execute_result"
        }
      ],
      "source": [
        "X.shape"
      ]
    },
    {
      "cell_type": "code",
      "execution_count": null,
      "metadata": {
        "colab": {
          "base_uri": "https://localhost:8080/"
        },
        "id": "1WlpH4uIXF5T",
        "outputId": "80197882-97fe-4fc5-f1e9-db3fb7fcbc8b"
      },
      "outputs": [
        {
          "data": {
            "text/plain": [
              "(400,)"
            ]
          },
          "execution_count": 18,
          "metadata": {},
          "output_type": "execute_result"
        }
      ],
      "source": [
        "y.shape"
      ]
    },
    {
      "cell_type": "code",
      "execution_count": null,
      "metadata": {
        "colab": {
          "base_uri": "https://localhost:8080/"
        },
        "id": "hGAXkc66TJjT",
        "outputId": "02941b8d-624f-4514-f5dd-b0d92e17a57e"
      },
      "outputs": [
        {
          "data": {
            "text/plain": [
              "array([[    1,    19, 19000],\n",
              "       [    1,    35, 20000],\n",
              "       [    0,    26, 43000],\n",
              "       [    0,    27, 57000],\n",
              "       [    1,    19, 76000]])"
            ]
          },
          "execution_count": 12,
          "metadata": {},
          "output_type": "execute_result"
        }
      ],
      "source": [
        "X[:5]"
      ]
    },
    {
      "cell_type": "code",
      "execution_count": null,
      "metadata": {
        "id": "c0-DwWGWXE0D"
      },
      "outputs": [],
      "source": []
    },
    {
      "cell_type": "code",
      "execution_count": null,
      "metadata": {
        "colab": {
          "base_uri": "https://localhost:8080/"
        },
        "id": "_4F04q3BTLUS",
        "outputId": "71554fdc-ca3a-46f4-f0c4-3bfb99d467b2"
      },
      "outputs": [
        {
          "data": {
            "text/plain": [
              "array([0, 0, 0, 0, 0])"
            ]
          },
          "execution_count": 13,
          "metadata": {},
          "output_type": "execute_result"
        }
      ],
      "source": [
        "y[:5]"
      ]
    },
    {
      "cell_type": "code",
      "execution_count": null,
      "metadata": {
        "id": "XDbJbetLTRrS"
      },
      "outputs": [],
      "source": [
        "from sklearn.model_selection import train_test_split\n",
        "X_train,X_test,y_train,y_test=train_test_split(X,y,test_size=0.2,random_state=0)"
      ]
    },
    {
      "cell_type": "markdown",
      "metadata": {
        "id": "Us293wtQn9gu"
      },
      "source": [
        " random_state is used to set a seed for a random generator so that you always get the same result, and the most used value for this is 42."
      ]
    },
    {
      "cell_type": "code",
      "execution_count": null,
      "metadata": {
        "colab": {
          "base_uri": "https://localhost:8080/"
        },
        "id": "_ZSfmbwLWoSD",
        "outputId": "a8d1c7ce-64b3-4782-bf6d-74657709af45"
      },
      "outputs": [
        {
          "data": {
            "text/plain": [
              "(320, 3)"
            ]
          },
          "execution_count": 16,
          "metadata": {},
          "output_type": "execute_result"
        }
      ],
      "source": [
        "X_train.shape"
      ]
    },
    {
      "cell_type": "code",
      "execution_count": null,
      "metadata": {
        "colab": {
          "base_uri": "https://localhost:8080/"
        },
        "id": "DrbUvyIXWruz",
        "outputId": "1b6f715e-73c8-4c3d-f359-481b8b229698"
      },
      "outputs": [
        {
          "data": {
            "text/plain": [
              "(80, 3)"
            ]
          },
          "execution_count": 19,
          "metadata": {},
          "output_type": "execute_result"
        }
      ],
      "source": [
        "X_test.shape"
      ]
    },
    {
      "cell_type": "code",
      "execution_count": null,
      "metadata": {
        "colab": {
          "base_uri": "https://localhost:8080/"
        },
        "id": "poJyx3PQXPLC",
        "outputId": "686b4343-aac2-46d9-c4a6-9b29041eaaee"
      },
      "outputs": [
        {
          "data": {
            "text/plain": [
              "(320,)"
            ]
          },
          "execution_count": 20,
          "metadata": {},
          "output_type": "execute_result"
        }
      ],
      "source": [
        "y_train.shape"
      ]
    },
    {
      "cell_type": "code",
      "execution_count": null,
      "metadata": {
        "colab": {
          "base_uri": "https://localhost:8080/"
        },
        "id": "cCAlyTfhXTKS",
        "outputId": "87686302-ee33-44e0-f46c-cacde459c885"
      },
      "outputs": [
        {
          "data": {
            "text/plain": [
              "(80,)"
            ]
          },
          "execution_count": 21,
          "metadata": {},
          "output_type": "execute_result"
        }
      ],
      "source": [
        "y_test.shape"
      ]
    },
    {
      "cell_type": "markdown",
      "metadata": {
        "id": "aQ-wl9LEoOH-"
      },
      "source": [
        "# Feature Scaling\n",
        "Feature scaling is the final step of data preprocessing in machine learning. It is a technique to standardize the independent variables of the dataset in a specific range. In feature scaling, we put our variables in the same range and in the same scale so that no any variable dominate the other variable.\n",
        "\n",
        "\n",
        "---\n",
        "\n",
        "\n",
        "As we can see, the age and salary column values are not on the same scale. A machine learning model is based on Euclidean distance, and if we do not scale the variable, then it will cause some issue in our machine learning model.\n",
        "\n",
        "---\n",
        "\n",
        "There are two ways to perform feature scaling in machine learning:\n",
        "![scalin.png](data:image/png;base64,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)"
      ]
    },
    {
      "cell_type": "code",
      "execution_count": null,
      "metadata": {
        "id": "3_nD3MmmXVNS"
      },
      "outputs": [],
      "source": [
        "from sklearn.preprocessing import StandardScaler\n",
        "sc=StandardScaler()\n",
        "X_train=sc.fit_transform(X_train)\n",
        "X_test=sc.transform(X_test)"
      ]
    },
    {
      "cell_type": "markdown",
      "metadata": {
        "id": "RpZ22Ry0puvz"
      },
      "source": [
        "### Why use `fit_transform` on `x_train` but only `transform` on `x_test`?\n",
        "\n",
        "#### **1. `fit_transform(x_train)`**\n",
        "- Computes the **mean** and **standard deviation** from `x_train`.\n",
        "- Applies the transformation using these computed values.\n",
        "\n",
        "#### **2. `transform(x_test)`**\n",
        "- Applies the transformation using the **same** mean and standard deviation computed from `x_train`.\n",
        "- Ensures test data is scaled in the **same way** as training data.\n",
        "\n",
        "#### **Why not `fit_transform(x_test)`?**\n",
        "- If we call `fit_transform(x_test)`, it would **recompute** a new mean and standard deviation based only on `x_test`, causing:\n",
        "  - **Data leakage** (test data influences scaling parameters).\n",
        "  - **Inconsistent scaling** (train and test data might have different distributions).\n",
        "\n"
      ]
    },
    {
      "cell_type": "code",
      "execution_count": null,
      "metadata": {
        "colab": {
          "base_uri": "https://localhost:8080/"
        },
        "id": "FQXKYLJkasEj",
        "outputId": "10036063-6410-42f6-87c9-b35c16cd330c"
      },
      "outputs": [
        {
          "data": {
            "text/plain": [
              "array([[ 1.02532046,  1.92295008,  2.14601566],\n",
              "       [-0.97530483,  2.02016082,  0.3787193 ],\n",
              "       [-0.97530483, -1.3822153 , -0.4324987 ],\n",
              "       [-0.97530483, -1.18779381, -1.01194013],\n",
              "       [-0.97530483,  1.92295008, -0.92502392]])"
            ]
          },
          "execution_count": 23,
          "metadata": {},
          "output_type": "execute_result"
        }
      ],
      "source": [
        "X_train[:5]"
      ]
    },
    {
      "cell_type": "code",
      "execution_count": null,
      "metadata": {
        "colab": {
          "base_uri": "https://localhost:8080/"
        },
        "id": "U0ich5JUaulz",
        "outputId": "a153b61c-89f1-4d9f-f1e9-a9bf8ce7f15e"
      },
      "outputs": [
        {
          "data": {
            "text/plain": [
              "array([[ 1.02532046, -0.79895082,  0.49460758],\n",
              "       [-0.97530483, -0.02126485, -0.57735906],\n",
              "       [ 1.02532046, -0.31289709,  0.14694273]])"
            ]
          },
          "execution_count": 24,
          "metadata": {},
          "output_type": "execute_result"
        }
      ],
      "source": [
        "X_test[:3]"
      ]
    },
    {
      "cell_type": "markdown",
      "metadata": {
        "id": "dZpvm6xea2WL"
      },
      "source": [
        "# model training"
      ]
    },
    {
      "cell_type": "code",
      "execution_count": null,
      "metadata": {
        "colab": {
          "base_uri": "https://localhost:8080/",
          "height": 80
        },
        "id": "vsPd0lCjaxwC",
        "outputId": "1eec44fa-a446-478b-e99e-698605444b1c"
      },
      "outputs": [
        {
          "data": {
            "text/html": [
              "<style>#sk-container-id-1 {\n",
              "  /* Definition of color scheme common for light and dark mode */\n",
              "  --sklearn-color-text: #000;\n",
              "  --sklearn-color-text-muted: #666;\n",
              "  --sklearn-color-line: gray;\n",
              "  /* Definition of color scheme for unfitted estimators */\n",
              "  --sklearn-color-unfitted-level-0: #fff5e6;\n",
              "  --sklearn-color-unfitted-level-1: #f6e4d2;\n",
              "  --sklearn-color-unfitted-level-2: #ffe0b3;\n",
              "  --sklearn-color-unfitted-level-3: chocolate;\n",
              "  /* Definition of color scheme for fitted estimators */\n",
              "  --sklearn-color-fitted-level-0: #f0f8ff;\n",
              "  --sklearn-color-fitted-level-1: #d4ebff;\n",
              "  --sklearn-color-fitted-level-2: #b3dbfd;\n",
              "  --sklearn-color-fitted-level-3: cornflowerblue;\n",
              "\n",
              "  /* Specific color for light theme */\n",
              "  --sklearn-color-text-on-default-background: var(--sg-text-color, var(--theme-code-foreground, var(--jp-content-font-color1, black)));\n",
              "  --sklearn-color-background: var(--sg-background-color, var(--theme-background, var(--jp-layout-color0, white)));\n",
              "  --sklearn-color-border-box: var(--sg-text-color, var(--theme-code-foreground, var(--jp-content-font-color1, black)));\n",
              "  --sklearn-color-icon: #696969;\n",
              "\n",
              "  @media (prefers-color-scheme: dark) {\n",
              "    /* Redefinition of color scheme for dark theme */\n",
              "    --sklearn-color-text-on-default-background: var(--sg-text-color, var(--theme-code-foreground, var(--jp-content-font-color1, white)));\n",
              "    --sklearn-color-background: var(--sg-background-color, var(--theme-background, var(--jp-layout-color0, #111)));\n",
              "    --sklearn-color-border-box: var(--sg-text-color, var(--theme-code-foreground, var(--jp-content-font-color1, white)));\n",
              "    --sklearn-color-icon: #878787;\n",
              "  }\n",
              "}\n",
              "\n",
              "#sk-container-id-1 {\n",
              "  color: var(--sklearn-color-text);\n",
              "}\n",
              "\n",
              "#sk-container-id-1 pre {\n",
              "  padding: 0;\n",
              "}\n",
              "\n",
              "#sk-container-id-1 input.sk-hidden--visually {\n",
              "  border: 0;\n",
              "  clip: rect(1px 1px 1px 1px);\n",
              "  clip: rect(1px, 1px, 1px, 1px);\n",
              "  height: 1px;\n",
              "  margin: -1px;\n",
              "  overflow: hidden;\n",
              "  padding: 0;\n",
              "  position: absolute;\n",
              "  width: 1px;\n",
              "}\n",
              "\n",
              "#sk-container-id-1 div.sk-dashed-wrapped {\n",
              "  border: 1px dashed var(--sklearn-color-line);\n",
              "  margin: 0 0.4em 0.5em 0.4em;\n",
              "  box-sizing: border-box;\n",
              "  padding-bottom: 0.4em;\n",
              "  background-color: var(--sklearn-color-background);\n",
              "}\n",
              "\n",
              "#sk-container-id-1 div.sk-container {\n",
              "  /* jupyter's `normalize.less` sets `[hidden] { display: none; }`\n",
              "     but bootstrap.min.css set `[hidden] { display: none !important; }`\n",
              "     so we also need the `!important` here to be able to override the\n",
              "     default hidden behavior on the sphinx rendered scikit-learn.org.\n",
              "     See: https://github.com/scikit-learn/scikit-learn/issues/21755 */\n",
              "  display: inline-block !important;\n",
              "  position: relative;\n",
              "}\n",
              "\n",
              "#sk-container-id-1 div.sk-text-repr-fallback {\n",
              "  display: none;\n",
              "}\n",
              "\n",
              "div.sk-parallel-item,\n",
              "div.sk-serial,\n",
              "div.sk-item {\n",
              "  /* draw centered vertical line to link estimators */\n",
              "  background-image: linear-gradient(var(--sklearn-color-text-on-default-background), var(--sklearn-color-text-on-default-background));\n",
              "  background-size: 2px 100%;\n",
              "  background-repeat: no-repeat;\n",
              "  background-position: center center;\n",
              "}\n",
              "\n",
              "/* Parallel-specific style estimator block */\n",
              "\n",
              "#sk-container-id-1 div.sk-parallel-item::after {\n",
              "  content: \"\";\n",
              "  width: 100%;\n",
              "  border-bottom: 2px solid var(--sklearn-color-text-on-default-background);\n",
              "  flex-grow: 1;\n",
              "}\n",
              "\n",
              "#sk-container-id-1 div.sk-parallel {\n",
              "  display: flex;\n",
              "  align-items: stretch;\n",
              "  justify-content: center;\n",
              "  background-color: var(--sklearn-color-background);\n",
              "  position: relative;\n",
              "}\n",
              "\n",
              "#sk-container-id-1 div.sk-parallel-item {\n",
              "  display: flex;\n",
              "  flex-direction: column;\n",
              "}\n",
              "\n",
              "#sk-container-id-1 div.sk-parallel-item:first-child::after {\n",
              "  align-self: flex-end;\n",
              "  width: 50%;\n",
              "}\n",
              "\n",
              "#sk-container-id-1 div.sk-parallel-item:last-child::after {\n",
              "  align-self: flex-start;\n",
              "  width: 50%;\n",
              "}\n",
              "\n",
              "#sk-container-id-1 div.sk-parallel-item:only-child::after {\n",
              "  width: 0;\n",
              "}\n",
              "\n",
              "/* Serial-specific style estimator block */\n",
              "\n",
              "#sk-container-id-1 div.sk-serial {\n",
              "  display: flex;\n",
              "  flex-direction: column;\n",
              "  align-items: center;\n",
              "  background-color: var(--sklearn-color-background);\n",
              "  padding-right: 1em;\n",
              "  padding-left: 1em;\n",
              "}\n",
              "\n",
              "\n",
              "/* Toggleable style: style used for estimator/Pipeline/ColumnTransformer box that is\n",
              "clickable and can be expanded/collapsed.\n",
              "- Pipeline and ColumnTransformer use this feature and define the default style\n",
              "- Estimators will overwrite some part of the style using the `sk-estimator` class\n",
              "*/\n",
              "\n",
              "/* Pipeline and ColumnTransformer style (default) */\n",
              "\n",
              "#sk-container-id-1 div.sk-toggleable {\n",
              "  /* Default theme specific background. It is overwritten whether we have a\n",
              "  specific estimator or a Pipeline/ColumnTransformer */\n",
              "  background-color: var(--sklearn-color-background);\n",
              "}\n",
              "\n",
              "/* Toggleable label */\n",
              "#sk-container-id-1 label.sk-toggleable__label {\n",
              "  cursor: pointer;\n",
              "  display: flex;\n",
              "  width: 100%;\n",
              "  margin-bottom: 0;\n",
              "  padding: 0.5em;\n",
              "  box-sizing: border-box;\n",
              "  text-align: center;\n",
              "  align-items: start;\n",
              "  justify-content: space-between;\n",
              "  gap: 0.5em;\n",
              "}\n",
              "\n",
              "#sk-container-id-1 label.sk-toggleable__label .caption {\n",
              "  font-size: 0.6rem;\n",
              "  font-weight: lighter;\n",
              "  color: var(--sklearn-color-text-muted);\n",
              "}\n",
              "\n",
              "#sk-container-id-1 label.sk-toggleable__label-arrow:before {\n",
              "  /* Arrow on the left of the label */\n",
              "  content: \"▸\";\n",
              "  float: left;\n",
              "  margin-right: 0.25em;\n",
              "  color: var(--sklearn-color-icon);\n",
              "}\n",
              "\n",
              "#sk-container-id-1 label.sk-toggleable__label-arrow:hover:before {\n",
              "  color: var(--sklearn-color-text);\n",
              "}\n",
              "\n",
              "/* Toggleable content - dropdown */\n",
              "\n",
              "#sk-container-id-1 div.sk-toggleable__content {\n",
              "  max-height: 0;\n",
              "  max-width: 0;\n",
              "  overflow: hidden;\n",
              "  text-align: left;\n",
              "  /* unfitted */\n",
              "  background-color: var(--sklearn-color-unfitted-level-0);\n",
              "}\n",
              "\n",
              "#sk-container-id-1 div.sk-toggleable__content.fitted {\n",
              "  /* fitted */\n",
              "  background-color: var(--sklearn-color-fitted-level-0);\n",
              "}\n",
              "\n",
              "#sk-container-id-1 div.sk-toggleable__content pre {\n",
              "  margin: 0.2em;\n",
              "  border-radius: 0.25em;\n",
              "  color: var(--sklearn-color-text);\n",
              "  /* unfitted */\n",
              "  background-color: var(--sklearn-color-unfitted-level-0);\n",
              "}\n",
              "\n",
              "#sk-container-id-1 div.sk-toggleable__content.fitted pre {\n",
              "  /* unfitted */\n",
              "  background-color: var(--sklearn-color-fitted-level-0);\n",
              "}\n",
              "\n",
              "#sk-container-id-1 input.sk-toggleable__control:checked~div.sk-toggleable__content {\n",
              "  /* Expand drop-down */\n",
              "  max-height: 200px;\n",
              "  max-width: 100%;\n",
              "  overflow: auto;\n",
              "}\n",
              "\n",
              "#sk-container-id-1 input.sk-toggleable__control:checked~label.sk-toggleable__label-arrow:before {\n",
              "  content: \"▾\";\n",
              "}\n",
              "\n",
              "/* Pipeline/ColumnTransformer-specific style */\n",
              "\n",
              "#sk-container-id-1 div.sk-label input.sk-toggleable__control:checked~label.sk-toggleable__label {\n",
              "  color: var(--sklearn-color-text);\n",
              "  background-color: var(--sklearn-color-unfitted-level-2);\n",
              "}\n",
              "\n",
              "#sk-container-id-1 div.sk-label.fitted input.sk-toggleable__control:checked~label.sk-toggleable__label {\n",
              "  background-color: var(--sklearn-color-fitted-level-2);\n",
              "}\n",
              "\n",
              "/* Estimator-specific style */\n",
              "\n",
              "/* Colorize estimator box */\n",
              "#sk-container-id-1 div.sk-estimator input.sk-toggleable__control:checked~label.sk-toggleable__label {\n",
              "  /* unfitted */\n",
              "  background-color: var(--sklearn-color-unfitted-level-2);\n",
              "}\n",
              "\n",
              "#sk-container-id-1 div.sk-estimator.fitted input.sk-toggleable__control:checked~label.sk-toggleable__label {\n",
              "  /* fitted */\n",
              "  background-color: var(--sklearn-color-fitted-level-2);\n",
              "}\n",
              "\n",
              "#sk-container-id-1 div.sk-label label.sk-toggleable__label,\n",
              "#sk-container-id-1 div.sk-label label {\n",
              "  /* The background is the default theme color */\n",
              "  color: var(--sklearn-color-text-on-default-background);\n",
              "}\n",
              "\n",
              "/* On hover, darken the color of the background */\n",
              "#sk-container-id-1 div.sk-label:hover label.sk-toggleable__label {\n",
              "  color: var(--sklearn-color-text);\n",
              "  background-color: var(--sklearn-color-unfitted-level-2);\n",
              "}\n",
              "\n",
              "/* Label box, darken color on hover, fitted */\n",
              "#sk-container-id-1 div.sk-label.fitted:hover label.sk-toggleable__label.fitted {\n",
              "  color: var(--sklearn-color-text);\n",
              "  background-color: var(--sklearn-color-fitted-level-2);\n",
              "}\n",
              "\n",
              "/* Estimator label */\n",
              "\n",
              "#sk-container-id-1 div.sk-label label {\n",
              "  font-family: monospace;\n",
              "  font-weight: bold;\n",
              "  display: inline-block;\n",
              "  line-height: 1.2em;\n",
              "}\n",
              "\n",
              "#sk-container-id-1 div.sk-label-container {\n",
              "  text-align: center;\n",
              "}\n",
              "\n",
              "/* Estimator-specific */\n",
              "#sk-container-id-1 div.sk-estimator {\n",
              "  font-family: monospace;\n",
              "  border: 1px dotted var(--sklearn-color-border-box);\n",
              "  border-radius: 0.25em;\n",
              "  box-sizing: border-box;\n",
              "  margin-bottom: 0.5em;\n",
              "  /* unfitted */\n",
              "  background-color: var(--sklearn-color-unfitted-level-0);\n",
              "}\n",
              "\n",
              "#sk-container-id-1 div.sk-estimator.fitted {\n",
              "  /* fitted */\n",
              "  background-color: var(--sklearn-color-fitted-level-0);\n",
              "}\n",
              "\n",
              "/* on hover */\n",
              "#sk-container-id-1 div.sk-estimator:hover {\n",
              "  /* unfitted */\n",
              "  background-color: var(--sklearn-color-unfitted-level-2);\n",
              "}\n",
              "\n",
              "#sk-container-id-1 div.sk-estimator.fitted:hover {\n",
              "  /* fitted */\n",
              "  background-color: var(--sklearn-color-fitted-level-2);\n",
              "}\n",
              "\n",
              "/* Specification for estimator info (e.g. \"i\" and \"?\") */\n",
              "\n",
              "/* Common style for \"i\" and \"?\" */\n",
              "\n",
              ".sk-estimator-doc-link,\n",
              "a:link.sk-estimator-doc-link,\n",
              "a:visited.sk-estimator-doc-link {\n",
              "  float: right;\n",
              "  font-size: smaller;\n",
              "  line-height: 1em;\n",
              "  font-family: monospace;\n",
              "  background-color: var(--sklearn-color-background);\n",
              "  border-radius: 1em;\n",
              "  height: 1em;\n",
              "  width: 1em;\n",
              "  text-decoration: none !important;\n",
              "  margin-left: 0.5em;\n",
              "  text-align: center;\n",
              "  /* unfitted */\n",
              "  border: var(--sklearn-color-unfitted-level-1) 1pt solid;\n",
              "  color: var(--sklearn-color-unfitted-level-1);\n",
              "}\n",
              "\n",
              ".sk-estimator-doc-link.fitted,\n",
              "a:link.sk-estimator-doc-link.fitted,\n",
              "a:visited.sk-estimator-doc-link.fitted {\n",
              "  /* fitted */\n",
              "  border: var(--sklearn-color-fitted-level-1) 1pt solid;\n",
              "  color: var(--sklearn-color-fitted-level-1);\n",
              "}\n",
              "\n",
              "/* On hover */\n",
              "div.sk-estimator:hover .sk-estimator-doc-link:hover,\n",
              ".sk-estimator-doc-link:hover,\n",
              "div.sk-label-container:hover .sk-estimator-doc-link:hover,\n",
              ".sk-estimator-doc-link:hover {\n",
              "  /* unfitted */\n",
              "  background-color: var(--sklearn-color-unfitted-level-3);\n",
              "  color: var(--sklearn-color-background);\n",
              "  text-decoration: none;\n",
              "}\n",
              "\n",
              "div.sk-estimator.fitted:hover .sk-estimator-doc-link.fitted:hover,\n",
              ".sk-estimator-doc-link.fitted:hover,\n",
              "div.sk-label-container:hover .sk-estimator-doc-link.fitted:hover,\n",
              ".sk-estimator-doc-link.fitted:hover {\n",
              "  /* fitted */\n",
              "  background-color: var(--sklearn-color-fitted-level-3);\n",
              "  color: var(--sklearn-color-background);\n",
              "  text-decoration: none;\n",
              "}\n",
              "\n",
              "/* Span, style for the box shown on hovering the info icon */\n",
              ".sk-estimator-doc-link span {\n",
              "  display: none;\n",
              "  z-index: 9999;\n",
              "  position: relative;\n",
              "  font-weight: normal;\n",
              "  right: .2ex;\n",
              "  padding: .5ex;\n",
              "  margin: .5ex;\n",
              "  width: min-content;\n",
              "  min-width: 20ex;\n",
              "  max-width: 50ex;\n",
              "  color: var(--sklearn-color-text);\n",
              "  box-shadow: 2pt 2pt 4pt #999;\n",
              "  /* unfitted */\n",
              "  background: var(--sklearn-color-unfitted-level-0);\n",
              "  border: .5pt solid var(--sklearn-color-unfitted-level-3);\n",
              "}\n",
              "\n",
              ".sk-estimator-doc-link.fitted span {\n",
              "  /* fitted */\n",
              "  background: var(--sklearn-color-fitted-level-0);\n",
              "  border: var(--sklearn-color-fitted-level-3);\n",
              "}\n",
              "\n",
              ".sk-estimator-doc-link:hover span {\n",
              "  display: block;\n",
              "}\n",
              "\n",
              "/* \"?\"-specific style due to the `<a>` HTML tag */\n",
              "\n",
              "#sk-container-id-1 a.estimator_doc_link {\n",
              "  float: right;\n",
              "  font-size: 1rem;\n",
              "  line-height: 1em;\n",
              "  font-family: monospace;\n",
              "  background-color: var(--sklearn-color-background);\n",
              "  border-radius: 1rem;\n",
              "  height: 1rem;\n",
              "  width: 1rem;\n",
              "  text-decoration: none;\n",
              "  /* unfitted */\n",
              "  color: var(--sklearn-color-unfitted-level-1);\n",
              "  border: var(--sklearn-color-unfitted-level-1) 1pt solid;\n",
              "}\n",
              "\n",
              "#sk-container-id-1 a.estimator_doc_link.fitted {\n",
              "  /* fitted */\n",
              "  border: var(--sklearn-color-fitted-level-1) 1pt solid;\n",
              "  color: var(--sklearn-color-fitted-level-1);\n",
              "}\n",
              "\n",
              "/* On hover */\n",
              "#sk-container-id-1 a.estimator_doc_link:hover {\n",
              "  /* unfitted */\n",
              "  background-color: var(--sklearn-color-unfitted-level-3);\n",
              "  color: var(--sklearn-color-background);\n",
              "  text-decoration: none;\n",
              "}\n",
              "\n",
              "#sk-container-id-1 a.estimator_doc_link.fitted:hover {\n",
              "  /* fitted */\n",
              "  background-color: var(--sklearn-color-fitted-level-3);\n",
              "}\n",
              "</style><div id=\"sk-container-id-1\" class=\"sk-top-container\"><div class=\"sk-text-repr-fallback\"><pre>GaussianNB()</pre><b>In a Jupyter environment, please rerun this cell to show the HTML representation or trust the notebook. <br />On GitHub, the HTML representation is unable to render, please try loading this page with nbviewer.org.</b></div><div class=\"sk-container\" hidden><div class=\"sk-item\"><div class=\"sk-estimator fitted sk-toggleable\"><input class=\"sk-toggleable__control sk-hidden--visually\" id=\"sk-estimator-id-1\" type=\"checkbox\" checked><label for=\"sk-estimator-id-1\" class=\"sk-toggleable__label fitted sk-toggleable__label-arrow\"><div><div>GaussianNB</div></div><div><a class=\"sk-estimator-doc-link fitted\" rel=\"noreferrer\" target=\"_blank\" href=\"https://scikit-learn.org/1.6/modules/generated/sklearn.naive_bayes.GaussianNB.html\">?<span>Documentation for GaussianNB</span></a><span class=\"sk-estimator-doc-link fitted\">i<span>Fitted</span></span></div></label><div class=\"sk-toggleable__content fitted\"><pre>GaussianNB()</pre></div> </div></div></div></div>"
            ],
            "text/plain": [
              "GaussianNB()"
            ]
          },
          "execution_count": 25,
          "metadata": {},
          "output_type": "execute_result"
        }
      ],
      "source": [
        "from  sklearn.naive_bayes import GaussianNB\n",
        "classifier=GaussianNB()\n",
        "classifier.fit(X_train,y_train)"
      ]
    },
    {
      "cell_type": "code",
      "execution_count": null,
      "metadata": {
        "id": "tAcuvj_QbGCz"
      },
      "outputs": [],
      "source": [
        "y_pred=classifier.predict(X_test)"
      ]
    },
    {
      "cell_type": "code",
      "execution_count": null,
      "metadata": {
        "colab": {
          "base_uri": "https://localhost:8080/"
        },
        "id": "Z-2mZN-BcD8j",
        "outputId": "90bb8214-945a-4d5b-d759-6257cbe1da2d"
      },
      "outputs": [
        {
          "data": {
            "text/plain": [
              "(array([0, 0, 0, 0, 0, 0, 0, 1, 0, 0, 0, 0, 0, 0, 0, 1, 0, 0, 1, 0, 0, 1,\n",
              "        0, 1, 0, 1, 0, 0, 0, 0, 0, 0, 1, 0, 0, 0, 0, 0, 0, 1, 0, 0, 0, 0,\n",
              "        1, 0, 0, 1, 0, 1, 1, 0, 0, 1, 1, 0, 0, 0, 1, 0, 0, 1, 0, 0, 0, 1,\n",
              "        0, 0, 0, 0, 1, 0, 0, 0, 0, 0, 0, 0, 1, 1]),\n",
              " array([0, 0, 0, 0, 0, 0, 0, 1, 0, 0, 0, 0, 0, 0, 0, 0, 0, 0, 1, 0, 0, 1,\n",
              "        0, 1, 0, 1, 0, 0, 0, 0, 0, 1, 1, 0, 0, 0, 0, 0, 0, 1, 0, 0, 0, 0,\n",
              "        1, 0, 0, 1, 0, 1, 1, 0, 0, 0, 1, 1, 0, 0, 1, 0, 0, 1, 0, 1, 0, 1,\n",
              "        0, 0, 0, 0, 1, 0, 0, 1, 0, 0, 0, 0, 1, 1]))"
            ]
          },
          "execution_count": 27,
          "metadata": {},
          "output_type": "execute_result"
        }
      ],
      "source": [
        "y_pred, y_test"
      ]
    },
    {
      "cell_type": "markdown",
      "metadata": {
        "id": "FMVo0Seyr_uG"
      },
      "source": [
        "# Understanding Confusion Matrix, Precision, Recall, and F1-score\n",
        "\n",
        "When evaluating a machine learning model, we use different metrics to measure performance. Here’s a breakdown:\n",
        "\n",
        "---\n",
        "\n",
        "## 1. Confusion Matrix\n",
        "A **confusion matrix** is a table used to evaluate classification models. It compares actual vs. predicted labels.\n",
        "\n",
        "| Actual / Predicted | Predicted Positive (1) | Predicted Negative (0) |\n",
        "|--------------------|----------------------|----------------------|\n",
        "| **Actual Positive (1)**  | True Positive (TP) | False Negative (FN) |\n",
        "| **Actual Negative (0)**  | False Positive (FP) | True Negative (TN) |\n",
        "\n",
        "- **True Positive (TP)** → Correctly predicted positive cases.  \n",
        "- **False Positive (FP)** → Incorrectly predicted as positive.  \n",
        "- **False Negative (FN)** → Incorrectly predicted as negative.  \n",
        "- **True Negative (TN)** → Correctly predicted negative cases.  \n",
        "\n",
        "---\n",
        "\n",
        "## 2. Accuracy\n",
        "Accuracy measures how often the model is correct:\n",
        "\n",
        "\\[\n",
        " Accuracy  = \\frac{TP + TN}{TP + TN + FP + FN}\n",
        "\\]\n",
        "\n",
        "🔹 **Use case:** When class distribution is balanced.\n",
        "\n",
        "---\n",
        "\n",
        "## 3. Precision\n",
        "Precision tells us **how many of the predicted positives are actually correct**:\n",
        "\n",
        "\\[\n",
        "\\text{Precision} = \\frac{TP}{TP + FP}\n",
        "\\]\n",
        "\n",
        "🔹 **Use case:** When **false positives** need to be minimized (e.g., spam detection, fraud detection).\n",
        "\n",
        "---\n",
        "\n",
        "## 4. Recall (Sensitivity)\n",
        "Recall measures **how many actual positives were correctly identified**:\n",
        "\n",
        "\\[\n",
        " Recall  = \\frac{TP}{TP + FN}\n",
        "\\]\n",
        "\n",
        "🔹 **Use case:** When **false negatives** need to be minimized (e.g., medical diagnosis, cancer detection).\n",
        "\n",
        "---\n",
        "\n",
        "## 5. F1-score\n",
        "The F1-score is the **harmonic mean** of precision and recall:\n",
        "\n",
        "\\[\n",
        "\\text{F1-score} = 2 \\times \\frac{\\text{Precision} \\times \\text{Recall}}{\\text{Precision} + \\text{Recall}}\n",
        "\\]\n",
        "\n",
        "🔹 **Use case:** When a balance between precision and recall is needed.\n"
      ]
    },
    {
      "cell_type": "code",
      "execution_count": null,
      "metadata": {
        "colab": {
          "base_uri": "https://localhost:8080/"
        },
        "id": "NURdXF_bcHQB",
        "outputId": "82f72cba-3bf8-4090-834a-dbb354822a2a"
      },
      "outputs": [
        {
          "name": "stdout",
          "output_type": "stream",
          "text": [
            "[[56  2]\n",
            " [ 4 18]]\n"
          ]
        }
      ],
      "source": [
        "from sklearn.metrics import confusion_matrix, accuracy_score, precision_score,recall_score,f1_score\n",
        "cm = confusion_matrix(y_test, y_pred)\n",
        "print(cm)"
      ]
    },
    {
      "cell_type": "code",
      "execution_count": null,
      "metadata": {
        "colab": {
          "base_uri": "https://localhost:8080/"
        },
        "id": "7jQ5fYOKdrKD",
        "outputId": "2e2c4769-9780-4e90-f241-c1fb9648e36e"
      },
      "outputs": [
        {
          "name": "stdout",
          "output_type": "stream",
          "text": [
            "0.9\n"
          ]
        }
      ],
      "source": [
        "precision=precision_score(y_test,y_pred)\n",
        "print(precision)"
      ]
    },
    {
      "cell_type": "code",
      "execution_count": null,
      "metadata": {
        "colab": {
          "base_uri": "https://localhost:8080/"
        },
        "id": "vj8i-UNwdvRS",
        "outputId": "06186192-757e-4da5-8d41-57bd45be1aab"
      },
      "outputs": [
        {
          "name": "stdout",
          "output_type": "stream",
          "text": [
            "0.8181818181818182\n"
          ]
        }
      ],
      "source": [
        "recall=recall_score(y_test,y_pred)\n",
        "print(recall)"
      ]
    },
    {
      "cell_type": "code",
      "execution_count": null,
      "metadata": {
        "colab": {
          "base_uri": "https://localhost:8080/"
        },
        "id": "T_-OitNOd1Ny",
        "outputId": "76d42d42-3334-4542-d9aa-36df4ad51acd"
      },
      "outputs": [
        {
          "name": "stdout",
          "output_type": "stream",
          "text": [
            "0.8571428571428571\n"
          ]
        }
      ],
      "source": [
        "f1_score=f1_score(y_test,y_pred)\n",
        "print(f1_score)"
      ]
    },
    {
      "cell_type": "code",
      "execution_count": null,
      "metadata": {
        "colab": {
          "base_uri": "https://localhost:8080/"
        },
        "id": "z4wu5EYRd--i",
        "outputId": "dea293d9-8bcd-4f7a-bda5-4192bcd2e333"
      },
      "outputs": [
        {
          "name": "stdout",
          "output_type": "stream",
          "text": [
            "0.925\n"
          ]
        }
      ],
      "source": [
        "\n",
        "acc_score=accuracy_score(y_test,y_pred)\n",
        "print(acc_score)"
      ]
    }
  ],
  "metadata": {
    "colab": {
      "provenance": []
    },
    "kernelspec": {
      "display_name": "Python 3",
      "name": "python3"
    },
    "language_info": {
      "name": "python",
      "version": "3.11.9"
    }
  },
  "nbformat": 4,
  "nbformat_minor": 0
}